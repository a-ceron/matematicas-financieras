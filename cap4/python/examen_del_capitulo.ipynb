{
 "cells": [
  {
   "attachments": {},
   "cell_type": "markdown",
   "metadata": {},
   "source": [
    "# Interés simple y descuento simple\n",
    "\n",
    "Recorre esta libreta con total libertad. Yo empece definiendo algunas ecuaciones que serán usadas en el futuro en ejercicios específicos. Así las primeras celdas serán la ecuaciones y las últimas serán los ejercicios.\n",
    "\n",
    "No todos los ejercicios necesitan el uso de las ecuaciones, algunos han de necesitar otras ecuaciones que pueden ser fácilmente construidas siguiendo las reglas de aritmética conocidas."
   ]
  },
  {
   "cell_type": "code",
   "execution_count": 32,
   "metadata": {},
   "outputs": [],
   "source": [
    "def mont(P:float, I:float) -> float:\n",
    "    \"\"\"El monto se define como la suma del capital más el interés ganado.\n",
    "        $$F = P + I$$\n",
    "\n",
    "    :param P: Capital\n",
    "    :type P: float\n",
    "    :param I: Interés   \n",
    "    :type I: float\n",
    "    :return: Monto\n",
    "    :rtype: float\n",
    "    \"\"\"\n",
    "    return P + I\n",
    "\n",
    "def interes_simple(P:float, i:float, t:float) -> float:\n",
    "    \"\"\"El interés simple se calcula multiplicando la tasa de interes (i)\n",
    "    al capital, multiplicado el tiempo transcurrido .\n",
    "        $$I = (P \\cdot i) \\cdot t$$\n",
    "\n",
    "    :param P: Capital\n",
    "    :type P: float\n",
    "    :param i: Tasa de interés\n",
    "    :type i: float\n",
    "    :param t: Tiempo\n",
    "    :type t: float\n",
    "    :return: Interés simple\n",
    "    :rtype: float\n",
    "    \"\"\"\n",
    "    return P * i * t\n",
    "\n",
    "def interes_total(P:float, i:float, t:float) -> float:\n",
    "    \"\"\"El interés total se calcula multiplicando la tasa de interes (i)\n",
    "    al capital, multiplicado el tiempo transcurrido, más el capital.\n",
    "        $$I = (P \\cdot i) \\cdot t + P$$\n",
    "\n",
    "    :param P: Capital\n",
    "    :type P: float\n",
    "    :param i: Tasa de interés\n",
    "    :type i: float\n",
    "    :param t: Tiempo\n",
    "    :type t: float\n",
    "    :return: Interés total\n",
    "    :rtype: float\n",
    "    \"\"\"\n",
    "    return interes_simple(P, i, t) + P\n",
    "\n",
    "def valor_presente(F:float, i:float, t:float) -> float:\n",
    "    \"\"\"El valor presente se calcula dividiendo el monto (F) entre la tasa de\n",
    "    interés\n",
    "        $$P = F / (1 + i \\cdot t)$$\n",
    "\n",
    "    :param F: Monto \n",
    "    :type F: float\n",
    "    :param i: Tasa de interés\n",
    "    :type i: float\n",
    "    :param t: Tiempo\n",
    "    :type t: float\n",
    "    :return: Valor presente\n",
    "    :rtype: float\n",
    "    \"\"\"\n",
    "    return F / (1 + i * t)\n",
    "\n",
    "def abono(monto:float, n_pagos:int)->float:\n",
    "    \"\"\"El abono se calcula dividiendo el monto entre el número de pagos.\n",
    "\n",
    "    :param monto: Monto\n",
    "    :type monto: float\n",
    "    :param n_pagos: Número de pagos\n",
    "    :type n_pagos: int\n",
    "    :return: Abono\n",
    "    :rtype: float\n",
    "    \"\"\"\n",
    "    return monto / n_pagos\n",
    "\n",
    "\n",
    "def _amortizacion(P:float, n_periodos:int)->float:\n",
    "    \"\"\"La amortización se calcula dividiendo el capital entre el número de\n",
    "    periodos.\n",
    "\n",
    "    :param P: Capital\n",
    "    :type P: float\n",
    "    :param n_periodos: Número de periodos\n",
    "    :type n_periodos: int\n",
    "    :return: Amortización\n",
    "    :rtype: float\n",
    "    \"\"\"\n",
    "    return P / n_periodos\n",
    "\n",
    "def spd(promedios:list, periodos:list)->float:\n",
    "    \"\"\"El SPD se calcula sumando los promedios ponderados por los periodos.\n",
    "\n",
    "    :param promedios: Promedios\n",
    "    :type promedios: list\n",
    "    :param periodos: Periodos\n",
    "    :type periodos: list\n",
    "    :return: SPD\n",
    "    :rtype: float\n",
    "    \"\"\"\n",
    "    return sum([promedios[i] * periodos[i] for i in range(len(promedios))])/sum(periodos)\n",
    "\n",
    "def descuento(F:float, d:float, t:float)->float:\n",
    "    \"\"\"El descuento se calcula dividiendo el monto (F) entre la tasa de\n",
    "    descuento (d) multiplicado el tiempo transcurrido (t).\n",
    "        $$P = F / (1 + d \\cdot t)$$\n",
    "\n",
    "    :param F: Monto \n",
    "    :type F: float\n",
    "    :param d: Tasa de descuento\n",
    "    :type d: float\n",
    "    :param t: Tiempo\n",
    "    :type t: float\n",
    "    :return: Descuento\n",
    "    :rtype: float\n",
    "    \"\"\"\n",
    "    return (F*d)*t\n",
    "\n",
    "def valor_efectivo(F:float, d:float, t:float)->float:\n",
    "    \"\"\"El valor efectivo se calcula dividiendo el monto (F) entre la tasa de\n",
    "    descuento (d) multiplicado el tiempo transcurrido (t).\n",
    "        $$P = F / (1 + d \\cdot t)$$\n",
    "\n",
    "    :param F: Monto \n",
    "    :type F: float\n",
    "    :param d: Tasa de descuento\n",
    "    :type d: float\n",
    "    :param t: Tiempo\n",
    "    :type t: float\n",
    "    :return: Valor efectivo\n",
    "    :rtype: float\n",
    "    \"\"\"\n",
    "    return F - descuento(F, d, t)\n",
    "\n",
    "def tasa_rendimiento(d, t):\n",
    "    \"\"\"La tasa de rendimiento se calcula dividiendo la tasa de descuento (d)\n",
    "    entre el tiempo transcurrido (t).\n",
    "        $$i = d / t$$\n",
    "    \n",
    "    :param d: Tasa de descuento\n",
    "    :type d: float\n",
    "    :param t: Tiempo\n",
    "    :type t: float\n",
    "    :return: Tasa de rendimiento\n",
    "    :rtype: float\n",
    "    \"\"\"\n",
    "    return d/(1  -d*t)\n",
    "\n",
    "def abono_mensual(P, n, i, a):\n",
    "    return (n*i / 2)*(2*P - a*(n-1))"
   ]
  },
  {
   "cell_type": "code",
   "execution_count": 8,
   "metadata": {},
   "outputs": [
    {
     "name": "stdout",
     "output_type": "stream",
     "text": [
      "Capital: $2438000\n",
      "Interés después de un año: $270618.0\n",
      "Interés mensual: $22551.5\n"
     ]
    }
   ],
   "source": [
    "# Salvador desea dejar intacto su capital de $ 2438 000 que tiene invertido en una sociedad de inversion y sólo gastar los intereses mensuales que genera. Si la tasa de interes simple es de 11.1% anual, ¿Cuánto dinero podrá gastar mensualmente?\n",
    "\n",
    "# Definimos las variables conocidas\n",
    "P = 2438000 # Capital\n",
    "i = 0.111 # Tasa de interés\n",
    "t = 1 # Periodo en el que esta definido la tasa de interes\n",
    "\n",
    "# Calculamos el interés simple\n",
    "I = interes_simple(P, i, t)\n",
    "print(f'Capital: ${P}\\nInterés después de un año: ${I}')\n",
    "\n",
    "# Calculamos el monto por mes\n",
    "I_mensual = I / 12\n",
    "print(f'Interés mensual: ${I_mensual}')\n",
    "\n"
   ]
  },
  {
   "cell_type": "code",
   "execution_count": 10,
   "metadata": {},
   "outputs": [
    {
     "name": "stdout",
     "output_type": "stream",
     "text": [
      "Monto invertido: $70306.89160086145\n",
      "Interes simple: $8043.108399138549\n"
     ]
    }
   ],
   "source": [
    "# Sandrá invirtió en el puesto de micheladas de su pareja, quien le dijo que tendría una tasa de interés simple mesual de 1.43%, al cabo de 8 meses obtuvo un monto de $78 350. ¿Cuánto dinero invirtió Sandrá?\n",
    "\n",
    "# Definimos las variables conocidas\n",
    "F = 78350 # Monto\n",
    "i = 1.43 / 100 # Tasa de interés\n",
    "t = 8 # Periodo en el que esta definido la tasa de interes\n",
    "\n",
    "# Calculamos el capital\n",
    "P = valor_presente(F, i, t)\n",
    "print(f'Monto invertido: ${P}')\n",
    "\n",
    "# Calculamos el interés simple\n",
    "I = interes_simple(P, i, t)\n",
    "print(f'Interes simple: ${I}')"
   ]
  },
  {
   "cell_type": "code",
   "execution_count": 18,
   "metadata": {},
   "outputs": [
    {
     "name": "stdout",
     "output_type": "stream",
     "text": [
      "Interes simple: $3899.9999999999995\n"
     ]
    }
   ],
   "source": [
    "# Calcule el interés simple ordinario y exacto de un capital de $75 000, a una tasa de 18% anual, del 8 de junio al 21 de septiembre del mismo año.\n",
    "\n",
    "# Definimos las variables conocidas\n",
    "P = 75000 # Capital\n",
    "i = 0.18 # Tasa de interés\n",
    "\n",
    "# El periodo será calculado en días de acuerdo a la fecha dada, cada mes será de 30 días\n",
    "dias_junio = 30 - 8 + 1 # el primer día no se cuenta\n",
    "dias_entre = 30 * 2 # 2 meses entre junio y septiembre\n",
    "dias_sep = 21 # el último día se cuenta\n",
    "dias_totales = dias_junio + dias_entre + dias_sep # Periodo en el que esta definido la tasa de interes\n",
    "t = (dias_totales / 360) # Periodo en el que esta definido la tasa de interes\n",
    "\n",
    "# Calculamos el interés simple\n",
    "I = interes_simple(P, i, t)\n",
    "print(f'Interes simple: ${I}')\n"
   ]
  },
  {
   "cell_type": "code",
   "execution_count": 21,
   "metadata": {},
   "outputs": [
    {
     "name": "stdout",
     "output_type": "stream",
     "text": [
      "Días de retraso: 20\n"
     ]
    }
   ],
   "source": [
    "# En un adeudo de $10640, se cobran intereses moratorios por $393.68. Si la tasa de interés moratorio es de 5.55% mensual. ¿Cuantos días se retrasó el pago del adeudo?\n",
    "\n",
    "# Definimos las variables conocidas\n",
    "P = 10640 # Adeudo\n",
    "I_m = 393.68 # Interés moratorio\n",
    "i_m = 0.0555 # Tasa de interés moratorio\n",
    "\n",
    "# Recordemos que la formula del interés simple es I = P * i * t\n",
    "# despejamos t para obtener el tiempo\n",
    "\n",
    "# Calculamos el tiempo\n",
    "t = lambda I, P, i: I / (P * i)\n",
    "meses = t(I_m, P, i_m)\n",
    "print(f'Días de retraso: {round(meses * 30)}')"
   ]
  },
  {
   "cell_type": "code",
   "execution_count": 25,
   "metadata": {},
   "outputs": [
    {
     "name": "stdout",
     "output_type": "stream",
     "text": [
      "Interés simple: $202752\n",
      "Interes mensual: $10137.6\n",
      "Tasa de interés: 1.4666666666666666%\n"
     ]
    }
   ],
   "source": [
    "# Mario vende un terreno de 30 m de largo por 12 m de ancho a razón de $ 1920 el metro cuadrado. Si el producto de la venta lo invierte y al cabo de 20 meses obtiene un monto de $893 952, 'cuál fue la tasa de interés mensual ganada?\n",
    "\n",
    "# Definimos las variables conocidas\n",
    "t = 20 # Periodo de tiempo esperado en meses\n",
    "F = 893952 # Monto recibido\n",
    "P = 30 * 12 * 1920 # Capital inicial\n",
    "\n",
    "# Calculamos la tasa de interés simple\n",
    "I = F - P\n",
    "print(f'Interés simple: ${I}')\n",
    "\n",
    "# Calculamos el interes mensual\n",
    "I_mensual = I / t\n",
    "print(f'Interes mensual: ${I_mensual}')\n",
    "\n",
    "# Calculamos la tasa de interés\n",
    "i = I / (P * t)\n",
    "print(f'Tasa de interés: {i * 100}%')"
   ]
  },
  {
   "cell_type": "code",
   "execution_count": 29,
   "metadata": {},
   "outputs": [
    {
     "name": "stdout",
     "output_type": "stream",
     "text": [
      "Pago quincenal global: $1012.9166666666666\n",
      "Pago quincenal con interés sobre el saldo insoluto: $958.0503472222222\n"
     ]
    }
   ],
   "source": [
    "# La familia Zambrano compró $18 700 en muebles para su casa. Pagaron $3 000 de enganche y el resto se pagará en 24 pagos quincenales iguales. Si la tasa de interés de 30%. Determine el pago quincineal constante si el interés se cobra de manera gloabl y si el interés se cobra sobre el saldo insoluto.\n",
    "\n",
    "# Definimos las variables conocidas\n",
    "mueble = 18700 # Costo del mueble\n",
    "enganche = 3000 # Enganche\n",
    "i = 0.3 # Tasa de interés\n",
    "t = 24 # Periodo de tiempo en quincenas\n",
    "\n",
    "# Calculamos el monto a pagar\n",
    "i_quincenal = (i / 12) / 2\n",
    "F = interes_total(mueble, i_quincenal, t)\n",
    "\n",
    "# Calculamos el pago quincenal\n",
    "pago_quincenal = F / t\n",
    "print(f'Pago quincenal global: ${pago_quincenal}')\n",
    "\n",
    "# Calculamos el pago quincenal con interés sobre el saldo insoluto\n",
    "F_ins = interes_total(mueble - pago_quincenal, i_quincenal, t)\n",
    "pago_quincenal_saldo = F_ins / t\n",
    "print(f'Pago quincenal con interés sobre el saldo insoluto: ${pago_quincenal_saldo}')"
   ]
  },
  {
   "cell_type": "code",
   "execution_count": 50,
   "metadata": {},
   "outputs": [
    {
     "name": "stdout",
     "output_type": "stream",
     "text": [
      "Monto de la deuda con intereses: $14157.0\n",
      "Precio de contado: $12240.186754279785\n",
      "Enganche: $1224.0186754279785\n",
      "Precio soluto: $11016.168078851806\n",
      "Intereses: 1424.0755398817412\n",
      "Abonos: 12440.24361873355\n",
      "Monto de la deuda menos interes: 12732.924460118258\n"
     ]
    }
   ],
   "source": [
    "# Erika compró un refrigerador nuevo pagando un enganche de 10% del precio de contado y el resto en 26 pagos quincenales de $544.50 cada uno, que incluyem intereses de 27.84% anual simple sobre saldos insolutos. Determine el precio de contado del refrigerador y el interés pagado por el financiamiento.\n",
    "\n",
    "# En revision, no es el resultado correcto\n",
    "\n",
    "# Definimos las variables conocidas\n",
    "enganche = 0.1 # Enganche\n",
    "abono = 544.50 # Pago quincenal\n",
    "t = 26 # Periodo de tiempo en quincenas\n",
    "i = 0.2784 # Tasa de interés anual\n",
    "\n",
    "# Calculamos precio total pagado\n",
    "F = abono * t\n",
    "print(f'Monto de la deuda con intereses: ${F}')\n",
    "\n",
    "# Calculamos el precio de contado\n",
    "i_quincenal = (i / 12) / 2\n",
    "P = (2 * t * abono)/(2 + i_quincenal*(t + 1))\n",
    "print(f'Precio de contado: ${P}')\n",
    "\n",
    "# Calculamos el enganche\n",
    "enganche = P * enganche\n",
    "P = P - enganche\n",
    "print(f'Enganche: ${enganche}')\n",
    "print(f'Precio soluto: ${P}')\n",
    "\n",
    "# Calculamos los intereses, los abonos y los saldos solutos\n",
    "intereses = []\n",
    "abonos = []\n",
    "saldos_insolutos = [P]\n",
    "amorizacion = _amortizacion(P, t)\n",
    "for i in range(t):\n",
    "    interes = saldos_insolutos[i] * i_quincenal\n",
    "    intereses.append(interes)\n",
    "    abono = interes + amorizacion\n",
    "    abonos.append(abono)\n",
    "    saldo_insoluto = saldos_insolutos[i] - abono\n",
    "    saldos_insolutos.append(saldo_insoluto)\n",
    "\n",
    "print(f'Intereses: {sum(intereses)}')\n",
    "print(f'Abonos: {sum(abonos)}')\n",
    "print(f'Monto de la deuda menos interes: {F - sum(intereses)}')\n"
   ]
  },
  {
   "cell_type": "code",
   "execution_count": null,
   "metadata": {},
   "outputs": [],
   "source": []
  }
 ],
 "metadata": {
  "kernelspec": {
   "display_name": "courses",
   "language": "python",
   "name": "python3"
  },
  "language_info": {
   "codemirror_mode": {
    "name": "ipython",
    "version": 3
   },
   "file_extension": ".py",
   "mimetype": "text/x-python",
   "name": "python",
   "nbconvert_exporter": "python",
   "pygments_lexer": "ipython3",
   "version": "3.10.8"
  },
  "orig_nbformat": 4,
  "vscode": {
   "interpreter": {
    "hash": "6eb77d71f9b1053a66a857b5c3717683ac8ebeff67c6ef05f20eab46d7f44361"
   }
  }
 },
 "nbformat": 4,
 "nbformat_minor": 2
}
