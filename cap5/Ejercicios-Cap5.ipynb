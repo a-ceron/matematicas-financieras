{
 "cells": [
  {
   "attachments": {},
   "cell_type": "markdown",
   "metadata": {},
   "source": [
    "# Interes compuesto e inflación\n",
    "\n",
    "Ejercicios presentes en el libro. Resueltos de forma detallada y usando python"
   ]
  },
  {
   "cell_type": "code",
   "execution_count": 44,
   "metadata": {},
   "outputs": [],
   "source": [
    "import numpy as np\n",
    "import matplotlib.pyplot as plt"
   ]
  },
  {
   "cell_type": "code",
   "execution_count": 45,
   "metadata": {},
   "outputs": [
    {
     "name": "stdout",
     "output_type": "stream",
     "text": [
      "El monto total es:  539106.2842407227\n",
      "El monto total con interés simple es:  537500.0\n",
      "El interés compuesto es:  39106.28424072265\n",
      "El interés compuesto es:  39106.284240722656\n"
     ]
    },
    {
     "data": {
      "image/png": "[encoded data removed]",
      "text/plain": [
       "<Figure size 432x288 with 1 Axes>"
      ]
     },
     "metadata": {
      "needs_background": "light"
     },
     "output_type": "display_data"
    }
   ],
   "source": [
    "# Tomás invierte $500 000 al 15% anual capitalizable cada mes, \n",
    "# a un plazo de 6 meses. Calcule:\n",
    "# a) El monto total que recibirá al final del plazo.\n",
    "# b)El interés compuesto ganado\n",
    "# c) El interés simple ganado\n",
    "# Compare ambos resultados.\n",
    "P = 500000 # Capital\n",
    "i = 0.15 / 12 # Tasa de interés mensual\n",
    "n = 6 # Plazo en meses\n",
    "\n",
    "# a) Monto total\n",
    "interes_mensual = np.zeros(n)\n",
    "monot_mensual_acumulado = P\n",
    "interes = 0\n",
    "for j in range(n):\n",
    "    interes = (monot_mensual_acumulado + interes) * i\n",
    "    interes_mensual[j] = interes\n",
    "    monot_mensual_acumulado += interes \n",
    "\n",
    "print(\"El monto total es: \", P + sum(interes_mensual))\n",
    "print(\"El monto total con interés simple es: \", P + sum(interes_mensual[0] for _ in range(n)))\n",
    "print(\"El interés compuesto es: \", sum(interes_mensual))\n",
    "print(\"El interés compuesto es: \", monot_mensual_acumulado - P)\n",
    "\n",
    "\n",
    "plt.bar(list(range(1, 1+len(interes_mensual))), interes_mensual, color='aqua')\n",
    "plt.bar(list(range(1, 1+len(interes_mensual))), [P*i for _ in range(len(interes_mensual))], color='pink')\n",
    "\n",
    "plt.plot(list(range(1, 1+len(interes_mensual))), interes_mensual, 'o-', color='blue', label = 'Interes compuesto')\n",
    "plt.plot(list(range(1, 1+len(interes_mensual))), [P*i for _ in range(len(interes_mensual))],'o-', color='red', label = 'Interes compuesto')\n",
    "\n",
    "plt.legend()\n",
    "plt.grid()\n",
    "plt.savefig('interes_compuesto.png')"
   ]
  },
  {
   "cell_type": "code",
   "execution_count": 46,
   "metadata": {},
   "outputs": [],
   "source": [
    "def monto_compuesto(P, i, n):\n",
    "    return P * (1 + i)**n"
   ]
  },
  {
   "cell_type": "code",
   "execution_count": 48,
   "metadata": {},
   "outputs": [
    {
     "name": "stdout",
     "output_type": "stream",
     "text": [
      "El monto compuesto es:  1200255.1569841641\n",
      "El interés compuesto es:  950255.1569841641\n"
     ]
    }
   ],
   "source": [
    "# Determine el monto compuesto y el interes compuesto después de 10 años, sis e invierten $250 000 a una tasa de 16% con capitalización trimestral\n",
    "\n",
    "n = (10 * 12) / 3   # Número de períodos en trimestres\n",
    "P = 250000  # Capital\n",
    "i = (0.16 / 12) * 3     # Tasa de interés trimestral\n",
    "print(\"El monto compuesto es: \", monto_compuesto(P, i, n))\n",
    "print(\"El interés compuesto es: \", monto_compuesto(P, i, n) - P)\n"
   ]
  },
  {
   "cell_type": "code",
   "execution_count": 50,
   "metadata": {},
   "outputs": [
    {
     "name": "stdout",
     "output_type": "stream",
     "text": [
      "El monto compuesto es:  145776.15391020803\n",
      "El interés compuesto es:  70776.15391020803\n"
     ]
    }
   ],
   "source": [
    "# ¿Qué cantidad de dinero se habrá acumulado al cabo de 5 años si se invierten $75000 al 1.12% mensual con interes capitalizable cada bimestre?\n",
    "\n",
    "P = 75000\n",
    "n = (5 * 12) / 2\n",
    "i = (1.12 * 2)/100 \n",
    "\n",
    "print(\"El monto compuesto es: \", monto_compuesto(P, i, n))\n",
    "print(\"El interés compuesto es: \", monto_compuesto(P, i, n) - P)"
   ]
  },
  {
   "cell_type": "code",
   "execution_count": 61,
   "metadata": {},
   "outputs": [],
   "source": [
    "# Ecuaciones propuestas\n",
    "def tasa_interes(i:float) -> float:\n",
    "    \"\"\"Regresa la tasa de interes\n",
    "\n",
    "    La tasa de interes se encuntra representada en porcentaje\n",
    "    para su uso se necesita representar en sistema decimal\n",
    "    por ello se regresa el valor dividido cien\n",
    "\n",
    "    :param i: Tasa de interés porcentual\n",
    "    :type i: float\n",
    "    :return: Tasa de intrés\n",
    "    :rtype: float\n",
    "    \"\"\"\n",
    "    return i/100\n",
    "\n",
    "def monto_futuro(C:float, n:int, i:float) -> float:\n",
    "    \"\"\"Regresa el monto futuro después de cierto periodo\n",
    "\n",
    "    Se calcula el monto futuro que se obtendría al invertir\n",
    "    cierto capitax C a una tasa de interés compuesta i en \n",
    "    un n periodos\n",
    "\n",
    "    :param C: Capital invertido\n",
    "    :type C: float\n",
    "    :param n: Número de periodos\n",
    "    :type n: int\n",
    "    :param i: tasa de interes porcentual\n",
    "    :type i: float\n",
    "    :return: Tasa de intrés\n",
    "    :rtype: float\n",
    "    \"\"\"\n",
    "    i = tasa_interes(i)\n",
    "    return C*((1 + i)**n)\n",
    "\n",
    "def capital(M:float, i:float, n:int) -> float:\n",
    "    \"\"\"Regresa el capital invertido dado el monto obentindo\n",
    "\n",
    "    Se calcula el capital invertido después de n periodos\n",
    "    con una tasa de interes i.\n",
    "\n",
    "    :param M: Monto obtenido \n",
    "    :type M: float\n",
    "    :param i: Tasa de interés\n",
    "    :type i: float\n",
    "    :param n: Número de peiodos\n",
    "    :type n: int\n",
    "    :return: Capital invertido\n",
    "    :rtype: float\n",
    "    \"\"\"\n",
    "    i = tasa_interes(i)\n",
    "    den = (1 + i)**n\n",
    "    return M/den\n",
    "\n",
    "def capital_por_interes(I:float, i:float, n:int) -> float:\n",
    "    \"\"\"Regresa el capital invertido dado el Interes generado\n",
    "\n",
    "    Se calcula el capital invertido después de n periodos\n",
    "    con una tasa de interes i.\n",
    "\n",
    "    :param I: Interés obtenido \n",
    "    :type M: float\n",
    "    :param i: Tasa de interés\n",
    "    :type i: float\n",
    "    :param n: Número de peiodos\n",
    "    :type n: int\n",
    "    :return: Capital invertido\n",
    "    :rtype: float\n",
    "    \"\"\"\n",
    "    i = tasa_interes(i)\n",
    "    den = (1 + i)**n - 1\n",
    "    return I/den\n"
   ]
  },
  {
   "cell_type": "code",
   "execution_count": 52,
   "metadata": {},
   "outputs": [
    {
     "name": "stdout",
     "output_type": "stream",
     "text": [
      "Tasa mensual 1.5%\n",
      "Tasa mensual 0.015\n"
     ]
    }
   ],
   "source": [
    "## ¿Cuál es la tasa mensual si se sabe que la tasa anual es del 18%?\n",
    "i = 18  # Tasa anual\n",
    "n = 12  # Número de meses en un año\n",
    "\n",
    "i /= n  # Convertimos la tasa anual en tasa mensual\n",
    "\n",
    "print(f'Tasa mensual {i}%')\n",
    "print(f'Tasa mensual {tasa_interes(i)}')"
   ]
  },
  {
   "cell_type": "code",
   "execution_count": 56,
   "metadata": {},
   "outputs": [
    {
     "name": "stdout",
     "output_type": "stream",
     "text": [
      "Tasa quincenal 0.01\n",
      "Tasa cuatrimestral 0.08\n",
      "Tasa mensual 0.02\n",
      "Tasa semestral 0.12\n"
     ]
    }
   ],
   "source": [
    "## ¿Cuál es la tasa de capitalización quincenal, cuatrimestral, mensual y semestral de 24%?\n",
    "i = 24  # La tasa anual\n",
    "\n",
    "q = 24  # Número de quincenas en un año\n",
    "m = 12  # Número de meses en un año\n",
    "c = 3   # Número de cuatrimestres en un año\n",
    "s = 2   # Número de semestres en un año\n",
    "\n",
    "i_q = i/q\n",
    "i_m = i/m\n",
    "i_c = i/c\n",
    "i_s = i/s\n",
    "print(f'Tasa quincenal {tasa_interes(i_q)}')\n",
    "print(f'Tasa cuatrimestral {tasa_interes(i_c)}')\n",
    "print(f'Tasa mensual {tasa_interes(i_m)}')\n",
    "print(f'Tasa semestral {tasa_interes(i_s)}')"
   ]
  },
  {
   "cell_type": "code",
   "execution_count": 58,
   "metadata": {},
   "outputs": [
    {
     "name": "stdout",
     "output_type": "stream",
     "text": [
      "Interés mensual 0.24\n",
      "Interés semanal 0.13846153846153844\n",
      "Interés trimestral 0.27\n"
     ]
    }
   ],
   "source": [
    "## ¿Cuál es la tasa de capitalización si se considera además el tiempo a 36%?\n",
    "# Mesnual, 8 meses\n",
    "# Semanl, en 5 meses\n",
    "# Trimestal, en nueve meses\n",
    "\n",
    "i = tasa_interes(36)\n",
    "\n",
    "m = 12  # Periodos mensuales\n",
    "n_m = 8 # Número de periodos acreditados\n",
    "\n",
    "s = 52  # Periodos semanles\n",
    "n_s = 20 # Número de periodos acreditados\n",
    "\n",
    "t = 4  # Periodos trimestrales\n",
    "n_t = 3 # Número de periodos acreditados\n",
    "\n",
    "i_m = (i/m)*n_m\n",
    "i_s = (i/s)*n_s\n",
    "i_t = (i/t)*n_t\n",
    "print(f\"Interés mensual {i_m}\")\n",
    "print(f\"Interés semanal {i_s}\")\n",
    "print(f\"Interés trimestral {i_t}\")"
   ]
  },
  {
   "cell_type": "code",
   "execution_count": 65,
   "metadata": {},
   "outputs": [
    {
     "name": "stdout",
     "output_type": "stream",
     "text": [
      "Capital producido 230000.00430726094\n"
     ]
    }
   ],
   "source": [
    "## ¿Cuáto capital producirá un interés compuesto de $139,940.57 a los 4 años y a tasa de 2% bimestral?\n",
    "I = 139940.57\n",
    "n = (12 / 2)*4  # Frecuencia de capitalización\n",
    "i = 2\n",
    "\n",
    "C = capital_por_interes(I,i, n)\n",
    "print(f\"Capital producido {C}\")"
   ]
  },
  {
   "cell_type": "code",
   "execution_count": 66,
   "metadata": {},
   "outputs": [
    {
     "name": "stdout",
     "output_type": "stream",
     "text": [
      "Capital 84999.08032604949\n"
     ]
    }
   ],
   "source": [
    "## ¿Cuál es el capital de un valor acumulado de $924,138.14 invertido durante 12 años a 22% anual?\n",
    "M = 924128.14   # Monto acumulado\n",
    "n = 12\n",
    "i = 22\n",
    "\n",
    "C = capital(M, i, n)\n",
    "print(f'Capital {C}')"
   ]
  },
  {
   "cell_type": "code",
   "execution_count": null,
   "metadata": {},
   "outputs": [],
   "source": []
  }
 ],
 "metadata": {
  "kernelspec": {
   "display_name": "courses",
   "language": "python",
   "name": "python3"
  },
  "language_info": {
   "codemirror_mode": {
    "name": "ipython",
    "version": 3
   },
   "file_extension": ".py",
   "mimetype": "text/x-python",
   "name": "python",
   "nbconvert_exporter": "python",
   "pygments_lexer": "ipython3",
   "version": "3.10.8"
  },
  "orig_nbformat": 4,
  "vscode": {
   "interpreter": {
    "hash": "6eb77d71f9b1053a66a857b5c3717683ac8ebeff67c6ef05f20eab46d7f44361"
   }
  }
 },
 "nbformat": 4,
 "nbformat_minor": 2
}
